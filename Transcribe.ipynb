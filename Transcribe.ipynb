{
  "nbformat": 4,
  "nbformat_minor": 0,
  "metadata": {
    "colab": {
      "name": "Transcribe.ipynb",
      "provenance": [],
      "toc_visible": true
    },
    "kernelspec": {
      "name": "python3",
      "display_name": "Python 3"
    }
  },
  "cells": [
    {
      "cell_type": "markdown",
      "metadata": {
        "id": "MZ3UBbdDCk31"
      },
      "source": [
        "# This is a ipynb notebook for transcribing audio files in norwegian (bokmål). \n",
        "\n",
        "Note: this notebook must be uploded to google colab and the audio file must be uploaded under \"Files\" (/content/). The module partitions the audio file into segments of 1 minute each and then proceeds to hand the minute to the Google Speech recognizer. If the audio is clear, the result is decent."
      ]
    },
    {
      "cell_type": "code",
      "metadata": {
        "colab": {
          "base_uri": "https://localhost:8080/"
        },
        "id": "NZOLNG3GqOgH",
        "outputId": "53aa8f72-32b3-43ec-b45f-1e2e6e219518"
      },
      "source": [
        "# Install packages needed\n",
        "\n",
        "!pip install SpeechRecognition\n",
        "!pip install pydub"
      ],
      "execution_count": 5,
      "outputs": [
        {
          "output_type": "stream",
          "text": [
            "Requirement already satisfied: SpeechRecognition in /usr/local/lib/python3.6/dist-packages (3.8.1)\n",
            "Requirement already satisfied: pydub in /usr/local/lib/python3.6/dist-packages (0.24.1)\n"
          ],
          "name": "stdout"
        }
      ]
    },
    {
      "cell_type": "code",
      "metadata": {
        "id": "M92CGKjfqZ4_"
      },
      "source": [
        "import speech_recognition as sr\n",
        "from pydub import AudioSegment\n",
        "\n",
        "r = sr.Recognizer()"
      ],
      "execution_count": 6,
      "outputs": []
    },
    {
      "cell_type": "code",
      "metadata": {
        "id": "9I_-_TXq2jmK"
      },
      "source": [
        "# Insert audiofile name here\n",
        "file_name = \"test.wav\"\n",
        "\n",
        "whole_file = AudioSegment.from_wav(\"/content/\" + file_name)\n",
        "num_mins = 1 + int(whole_file.duration_seconds/60)"
      ],
      "execution_count": 7,
      "outputs": []
    },
    {
      "cell_type": "code",
      "metadata": {
        "id": "kXfQ7d_Yqe6M"
      },
      "source": [
        "# Split audio file into segments and transcribe the segments\n",
        "\n",
        "for i in range(num_mins):\n",
        "  # Get segment\n",
        "  t1 = i * 60\n",
        "  t2 = t1 + 59\n",
        "  t1 = t1 * 1000 #Works in milliseconds\n",
        "  t2 = t2 * 1000\n",
        "  newAudio = whole_file[t1:t2]\n",
        "\n",
        "  # Export segment to wav file\n",
        "  temp_file_name = \"seg\" + str(i) + \".wav\"\n",
        "  newAudio.export(temp_file_name, format=\"wav\")\n",
        "  AUDIO_FILE = \"/content/\" + temp_file_name\n",
        "\n",
        "  # Read new audio file\n",
        "  with sr.AudioFile(AUDIO_FILE) as source:\n",
        "    audio = r.record(source)\n",
        "\n",
        "  # Recognize speech using Google Speech Recognition\n",
        "  try:\n",
        "    with open(\"/content/output.txt\", \"a\") as text_file:\n",
        "      text_file.write(\"\\n\" + r.recognize_google(audio, language = \"no-NO\"))\n",
        "  except sr.UnknownValueError:\n",
        "      print(\"Google Speech Recognition could not understand audio\")\n",
        "  except sr.RequestError as e:\n",
        "      print(\"Could not request results from Google Speech Recognition service; {0}\".format(e))"
      ],
      "execution_count": 8,
      "outputs": []
    }
  ]
}
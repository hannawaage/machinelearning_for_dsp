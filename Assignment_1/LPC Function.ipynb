{
 "cells": [
  {
   "cell_type": "code",
   "execution_count": null,
   "metadata": {},
   "outputs": [],
   "source": [
    "def my_lpc(y, m):\n",
    "    \"Return m linear predictive coefficients for sequence y using Levinson-Durbin prediction algorithm\"\n",
    "    #compute autoregression coefficients R_0, ..., R_m\n",
    "    R = [y.dot(y)] \n",
    "    if R[0] == 0:\n",
    "        return [1] + [0] * (m-2) + [-1]\n",
    "    else:\n",
    "        for i in range(1, m + 1):\n",
    "            r = y[i:].dot(y[:-i])\n",
    "            R.append(r)\n",
    "        R = np.array(R)\n",
    "    #step 2: \n",
    "        A = np.array([1, -R[1] / R[0]])\n",
    "        E = R[0] + R[1] * A[1]\n",
    "        for k in range(1, m):\n",
    "            if (E == 0):\n",
    "                E = 10e-17\n",
    "            alpha = - A[:k+1].dot(R[k+1:0:-1]) / E\n",
    "            A = np.hstack([A,0])\n",
    "            A = A + alpha * A[::-1]\n",
    "            E *= (1 - alpha**2)\n",
    "        return A\n",
    "\n",
    "#Sample of LPC order 4 extraction\n",
    "my_lpcOrd4 = my_lpc(vowel, 4)    "
   ]
  }
 ],
 "metadata": {
  "kernelspec": {
   "display_name": "Python 3",
   "language": "python",
   "name": "python3"
  },
  "language_info": {
   "codemirror_mode": {
    "name": "ipython",
    "version": 3
   },
   "file_extension": ".py",
   "mimetype": "text/x-python",
   "name": "python",
   "nbconvert_exporter": "python",
   "pygments_lexer": "ipython3",
   "version": "3.7.3"
  }
 },
 "nbformat": 4,
 "nbformat_minor": 2
}
